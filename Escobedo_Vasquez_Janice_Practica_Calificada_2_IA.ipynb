{
  "nbformat": 4,
  "nbformat_minor": 0,
  "metadata": {
    "colab": {
      "provenance": []
    },
    "kernelspec": {
      "name": "python3",
      "display_name": "Python 3"
    },
    "language_info": {
      "name": "python"
    }
  },
  "cells": [
    {
      "cell_type": "markdown",
      "source": [
        "## Pregunta 1\n",
        "Desarrollar el algoritmo minimax para el juego 3 en raya"
      ],
      "metadata": {
        "id": "vA6EbL_VRdUp"
      }
    },
    {
      "cell_type": "code",
      "execution_count": 1,
      "metadata": {
        "id": "89P6f9sqx06F"
      },
      "outputs": [],
      "source": [
        "import numpy as np\n",
        "import math"
      ]
    },
    {
      "cell_type": "code",
      "source": [
        "# Win representa una lista con la formas de ganar, en total\n",
        "# hay 8 maneras de que alguien pueda ganar\n",
        "win = [(np.array([0, 1, 2]), np.array([0, 0, 0])),\n",
        " (np.array([0, 1, 2]), np.array([1, 1, 1])),\n",
        " (np.array([0, 1, 2]), np.array([2, 2, 2])),\n",
        " (np.array([0, 0, 0]), np.array([0, 1, 2])),\n",
        " (np.array([1, 1, 1]), np.array([0, 1, 2])),\n",
        " (np.array([2, 2, 2]), np.array([0, 1, 2])),\n",
        " (np.array([0, 1, 2]), np.array([0, 1, 2])),\n",
        " (np.array([0, 1, 2]), np.array([2, 1, 0]))\n",
        " ]"
      ],
      "metadata": {
        "id": "INICDYZVx4Lv"
      },
      "execution_count": 3,
      "outputs": []
    },
    {
      "cell_type": "code",
      "source": [
        "def Heuristica(initial, player1, player2):\n",
        "    # la variable count cuenta el nro. de filas, columnas y diagonales\n",
        "    # completas disponibles para player1\n",
        "    count = 0\n",
        "    for i in range(8): # por cada posibilidad de ganar\n",
        "        empty = np.array(['']*3) ==  np.array(initial[win[i]])\n",
        "        # si player1 tiene fila, columna o diaginal libre (player2 no debe estar) o\n",
        "        # si existen filas, columnas o diagonales vacías, entonces aumenta el conteo\n",
        "        if (player1 in initial[win[i]] and player2 not in initial[win[i]]) or empty.all():\n",
        "            count +=1\n",
        "    return count\n",
        "\n",
        "def Utilidad(state): # La función utilidad del estado\n",
        "    # Cuando algun jugador gana ya no se halla la funcion utilidad de manera usual\n",
        "    for i in range(8):\n",
        "        # ful_X es vector de booleanos que compara a la lista de X con las posibles maneras de ganar\n",
        "        full_X = np.array(['X']*3) ==  np.array(initial[win[i]])\n",
        "        # Si es que jugador X ganó, entonces se representa como +infty\n",
        "        if full_X.all() == True:\n",
        "            return math.inf\n",
        "        # ful_O es vector de booleanos que compara a la lista de O con las posibles maneras de ganar\n",
        "        full_O = np.array(['O']*3) ==  np.array(initial[win[i]])\n",
        "        # Si es que jugador O ganó, entonces se representa como +infty\n",
        "        if full_O.all() == True:\n",
        "            return -math.inf\n",
        "    # Cuando nungino gana entonces devuelve:\n",
        "    # [número de filas, columnas y diagonales completas disponibles para lugador1] –\n",
        "    # [número de filas, columnas y diagonales completas disponibles para MIN]\n",
        "    return Heuristica(state, 'X', 'O') - Heuristica(state, 'O', 'X')"
      ],
      "metadata": {
        "id": "b6-YA5V0x5ZP"
      },
      "execution_count": 124,
      "outputs": []
    },
    {
      "cell_type": "code",
      "source": [
        "# Esta función acumula los estados recorridos en la lista Closed, aqui consideramos 2 cosas\n",
        "# - Simetria: Pasar al estado 'state' es equivalente a pasar a 'state' transpuesto\n",
        "# - Rotación: Pasar al estado 'state' es equivalente a pasar a 'state' rotado 90, 180 y 270\n",
        "\n",
        "def Add_to_closed(Closed,state_1):\n",
        "    Closed.append(state_1)\n",
        "    transpose = state_1.T\n",
        "    Closed.append(transpose)\n",
        "    rotate = np.rot90(state_1)\n",
        "    for k in range(3):\n",
        "        Closed.append(rotate)\n",
        "        rotate = np.rot90(rotate)\n",
        "    return list(np.unique(Closed, axis=0))  # Al final si algun estado se repite lo consideramos solo una vez\n",
        "\n",
        "# Funci[on que obtiene las posibles jugadas siguientes\n",
        "# -> Closed: el conjunto cerrado\n",
        "# -> initial: estado actual\n",
        "# -> current: ficha que va a jugar\n",
        "def Get_children(Closed, initial, current):\n",
        "    # Consideramos los indices de los espacios vacios (posibles opciones de poner la siguiente ficha)\n",
        "    (inx_l,iny_l) =np.where(initial=='')\n",
        "\n",
        "    # children almacena los nodos hijos del estado 'initial'\n",
        "    children = []\n",
        "\n",
        "    for i in range(len(inx_l)):\n",
        "        initial_2 = initial.copy()\n",
        "        # Asignamos a la ficha que jugara en todos los posibles espacios en blanco\n",
        "        initial_2[inx_l[i],iny_l[i]] = current\n",
        "\n",
        "        # valid es una lista de arrays en 2d con tipo de dato booleano\n",
        "        valid = initial_2 == Closed\n",
        "\n",
        "        # Si la suma de elementos de los elementos de valid es 9 significa que\n",
        "        # el estado initial2 está dentro del conjunto cerrados, lo que deseamos\n",
        "        # es que se considere un nuevo hijo si es que el estado initial2 no está\n",
        "        # dentro de Closed; es decir, la suma no es 9\n",
        "        if 9 not in [valid[k].sum() for k in range(len(valid))]: # si no esta en Closed\n",
        "            children.append(initial_2)\n",
        "\n",
        "        # Luego de tener los nodos hijo actualizamos nuestro conjunto cerrado\n",
        "        Closed = Add_to_closed(Closed,initial_2)\n",
        "    return Closed, children"
      ],
      "metadata": {
        "id": "gvIVOVIQx-ZO"
      },
      "execution_count": 126,
      "outputs": []
    },
    {
      "cell_type": "code",
      "source": [
        "def Minimax(state, depth, is_maximizing, Closed):\n",
        "\n",
        "    # Score es el resultado de la funcion utilidad aplicada al estado actual\n",
        "    score = Utilidad(state)\n",
        "\n",
        "    # minimax viene a ser una función recursiva que se detendrá siempre y cuando\n",
        "    # -> ganó el jugador1\n",
        "    # -> ganó el jugador2\n",
        "    # -> la profundidad es 0 (estamos en la produndidad limite y\n",
        "    #       ya no podemos continuar recorriendo los hijos del estado)\n",
        "\n",
        "    if score == math.inf or score == -math.inf or depth == 0:\n",
        "        return score, 0 # el 0 es un valor por default\n",
        "\n",
        "    # Si está jugando Max\n",
        "    if is_maximizing:\n",
        "        # Obtenemos los hijos de 'state'\n",
        "        Children = Get_children(Closed, state, 'X')[1]\n",
        "        # Comenzamos con un valor en Eval, para no tener vacío el indice del máximo\n",
        "        Eval = [-math.inf]\n",
        "        # Para cada hijo de state\n",
        "        for n_child in range(len(Children)):\n",
        "            # -> Recogemos el máximo valor de los hijos (que son el mínimo valor de\n",
        "            # sus hijos y así consecutivamente) y vemos en que indice de los hijos se dió el máximo\n",
        "            # eso nor sirve al final de las iteraciones (cuando lleguemos al estado inicial)\n",
        "            # para saber que jugada siguiente se debe dar (se debe dar donde se dió el máximo)\n",
        "            # -> Argumento False: le toca jugar a O\n",
        "            eval = Minimax(Children[n_child],depth - 1, False, Closed)[0] # solo necesitamos el score\n",
        "            # Eval almacena los scores que recoge de cada hijo\n",
        "            Eval.append(eval)\n",
        "        return max(Eval), Eval.index(max(Eval))-1 # el indice es sin considerar el -infty inicial\n",
        "    else:\n",
        "        # De la misma manera si is_maximizing == False, que significa que le\n",
        "        # toca jugar al jugador 'O'\n",
        "        Children = Get_children(Closed,state, 'O')[1]\n",
        "        Eval = [math.inf]\n",
        "        for n_child in range(len(Children)):\n",
        "            eval = Minimax(Children[n_child],depth - 1, True, Closed)[0]\n",
        "            Eval.append(eval)\n",
        "        return min(Eval), Eval.index(min(Eval))-1"
      ],
      "metadata": {
        "id": "ui3-wBdayCAr"
      },
      "execution_count": 125,
      "outputs": []
    },
    {
      "cell_type": "markdown",
      "source": [
        "Ejemplo detallado en el PDF"
      ],
      "metadata": {
        "id": "mDydCcvBHW3M"
      }
    },
    {
      "cell_type": "code",
      "source": [
        "# Comenzamos con un estado inicial de un tablero Tic, Tac Toe vacio\n",
        "initial = np.zeros((3,3), dtype = np.dtype(\"<U1\"))\n",
        "# Llenemos un poco el tablero\n",
        "initial[(0,1),(0,1)] = 'X'\n",
        "initial[(0,2,2),(1,1,2)] = 'O'\n",
        "initial"
      ],
      "metadata": {
        "colab": {
          "base_uri": "https://localhost:8080/"
        },
        "id": "RWt_zSOTyEep",
        "outputId": "7d2e0346-22d2-4372-a00d-c035cb62fabf"
      },
      "execution_count": 109,
      "outputs": [
        {
          "output_type": "execute_result",
          "data": {
            "text/plain": [
              "array([['X', 'O', ''],\n",
              "       ['', 'X', ''],\n",
              "       ['', 'O', 'O']], dtype='<U1')"
            ]
          },
          "metadata": {},
          "execution_count": 109
        }
      ]
    },
    {
      "cell_type": "code",
      "source": [
        "Closed = [initial]\n",
        "(score, child) = Minimax(initial, 3, True, Closed)"
      ],
      "metadata": {
        "id": "heBAs21qyGHi"
      },
      "execution_count": 110,
      "outputs": []
    },
    {
      "cell_type": "code",
      "source": [
        "print('El movimieto del oponente es:')\n",
        "Get_children([initial],initial, 'X')[1][child]"
      ],
      "metadata": {
        "colab": {
          "base_uri": "https://localhost:8080/"
        },
        "id": "jjQTWgx2yqEN",
        "outputId": "e0278fc3-8e64-4fef-dfc3-dbdb3ac94373"
      },
      "execution_count": 111,
      "outputs": [
        {
          "output_type": "stream",
          "name": "stdout",
          "text": [
            "El movimieto del oponente es:\n"
          ]
        },
        {
          "output_type": "execute_result",
          "data": {
            "text/plain": [
              "array([['X', 'O', ''],\n",
              "       ['', 'X', ''],\n",
              "       ['X', 'O', 'O']], dtype='<U1')"
            ]
          },
          "metadata": {},
          "execution_count": 111
        }
      ]
    },
    {
      "cell_type": "code",
      "source": [
        "# Comenzamos con un estado inicial de un tablero vacio, para el caso contrario de fichas\n",
        "initial = np.zeros((3,3), dtype = np.dtype(\"<U1\"))\n",
        "initial[(0,1),(0,1)] = 'O'\n",
        "initial[(0,2,2),(1,1,2)] = 'X'\n",
        "initial"
      ],
      "metadata": {
        "colab": {
          "base_uri": "https://localhost:8080/"
        },
        "id": "_pWUSlLBz8zm",
        "outputId": "74fd85c8-0aec-43d5-d3c8-b3eadfb20fbe"
      },
      "execution_count": 112,
      "outputs": [
        {
          "output_type": "execute_result",
          "data": {
            "text/plain": [
              "array([['O', 'X', ''],\n",
              "       ['', 'O', ''],\n",
              "       ['', 'X', 'X']], dtype='<U1')"
            ]
          },
          "metadata": {},
          "execution_count": 112
        }
      ]
    },
    {
      "cell_type": "code",
      "source": [
        "(score, child) = Minimax(initial, 3, False, [initial])"
      ],
      "metadata": {
        "id": "MHnDAgI70BbB"
      },
      "execution_count": 113,
      "outputs": []
    },
    {
      "cell_type": "code",
      "source": [
        "print('El movimieto del oponente es:')\n",
        "Get_children([initial],initial, 'O')[1][child]"
      ],
      "metadata": {
        "colab": {
          "base_uri": "https://localhost:8080/"
        },
        "id": "rWnjrYFt0C9_",
        "outputId": "fde6055f-5131-4586-f941-f4d340fa9c4d"
      },
      "execution_count": 114,
      "outputs": [
        {
          "output_type": "stream",
          "name": "stdout",
          "text": [
            "El movimieto del oponente es:\n"
          ]
        },
        {
          "output_type": "execute_result",
          "data": {
            "text/plain": [
              "array([['O', 'X', ''],\n",
              "       ['', 'O', ''],\n",
              "       ['O', 'X', 'X']], dtype='<U1')"
            ]
          },
          "metadata": {},
          "execution_count": 114
        }
      ]
    },
    {
      "cell_type": "markdown",
      "source": [
        "### Juego simulado"
      ],
      "metadata": {
        "id": "VlnevlMEHo4L"
      }
    },
    {
      "cell_type": "code",
      "source": [
        "# Quien comienza primero\n",
        "first = ''\n",
        "while first != 'YES' and first != 'NO':\n",
        "    first = input('First to start? (Yes or No): ').upper()\n",
        "\n",
        "# Quien será el usuario\n",
        "user = 'X'\n",
        "is_maximizing = False\n",
        "maquina = 'O'\n",
        "\n",
        "# Comienza el tablero vacío\n",
        "initial = np.zeros((3,3), dtype = np.dtype(\"<U1\"))\n",
        "Closed = [initial]\n",
        "\n",
        "(ind_x,ind_y) = np.where(initial=='')\n",
        "\n",
        "if first == 'YES': # si comienza primero entonces introducirá su jugada,\n",
        "                   # de otra manera el oponente comienza\n",
        "    user_turn = True\n",
        "else:\n",
        "    user_turn = False\n",
        "\n",
        "# mientras haya espacio vacío en el tablero\n",
        "while len(ind_x)>0:\n",
        "    if user_turn == True:\n",
        "        pos = [] # posicion inicial por default\n",
        "        # Si no esta dentro de los valores permitidos o la posición que coloque esté ya ocupada\n",
        "        # entonces seguira pidiendo la posicion de la jugada del usuario\n",
        "        while len(pos) != 2 or (pos > [2]*2).all(0) or (pos < [0]*2).all() or not lleno:\n",
        "            pos = np.array(list(map(int, input(\"Posicion donde quieres colocar tu ficha: \").split())))\n",
        "            lleno = np.array([(pos[0],pos[1]) == (ind_x[i],ind_y[i]) for i in range(len(ind_x))]).any()\n",
        "        # Introducimos la jugada del usuario\n",
        "        initial[pos[0],pos[1]] = user\n",
        "        print(\"Tu jugada:\")\n",
        "        print(initial)\n",
        "\n",
        "        # Si la utilidad toma in ¡infty es porque X (el usuario) ya completó su jugana ganadora\n",
        "        if Utilidad(initial) == math.inf:\n",
        "            print('Ganaste el juego!!')\n",
        "            break\n",
        "        # pasamos al turno de la maquina\n",
        "        user_turn = False\n",
        "\n",
        "    if user_turn == False:\n",
        "        # 3 es la profundidad, is?maximizing es False porque le toca al O\n",
        "        (score, child) = Minimax(initial, 3, is_maximizing, Closed)\n",
        "        print('Movimiento del oponente:')\n",
        "        Closed_2 = [initial]\n",
        "        # Ahora la siguiente jugada será nuestro nuevo tablero (initial)\n",
        "        initial = Get_children(Closed_2, initial, maquina)[1][child]\n",
        "        print(initial)\n",
        "\n",
        "        # Si en la jugada de la máquina la utilidad nos da 'infty significa que\n",
        "        # la máquina alcanzó si jugada ganadora, o sea perdimos el juego\n",
        "        if Utilidad(initial) == -math.inf:\n",
        "            print('Perdiste el juego!!')\n",
        "            break\n",
        "        user_turn = True\n",
        "\n",
        "    # Almacena los indices de los epspacios en blanco\n",
        "    (ind_x,ind_y) = np.where(initial=='')"
      ],
      "metadata": {
        "colab": {
          "base_uri": "https://localhost:8080/"
        },
        "id": "CD3zIj4fauKv",
        "outputId": "10321a8f-010e-45a2-c57c-afebdaf4f101"
      },
      "execution_count": 115,
      "outputs": [
        {
          "output_type": "stream",
          "name": "stdout",
          "text": [
            "First to start? (Yes or No): no\n",
            "Movimiento del oponente:\n",
            "[['' '' '']\n",
            " ['' 'O' '']\n",
            " ['' '' '']]\n",
            "Posicion donde quieres colocar tu ficha: 0 0\n",
            "Tu jugada:\n",
            "[['X' '' '']\n",
            " ['' 'O' '']\n",
            " ['' '' '']]\n",
            "Movimiento del oponente:\n",
            "[['X' 'O' '']\n",
            " ['' 'O' '']\n",
            " ['' '' '']]\n",
            "Posicion donde quieres colocar tu ficha: 2 1\n",
            "Tu jugada:\n",
            "[['X' 'O' '']\n",
            " ['' 'O' '']\n",
            " ['' 'X' '']]\n",
            "Movimiento del oponente:\n",
            "[['X' 'O' 'O']\n",
            " ['' 'O' '']\n",
            " ['' 'X' '']]\n",
            "Posicion donde quieres colocar tu ficha: 2 1\n",
            "Posicion donde quieres colocar tu ficha: 2 0\n",
            "Tu jugada:\n",
            "[['X' 'O' 'O']\n",
            " ['' 'O' '']\n",
            " ['X' 'X' '']]\n",
            "Movimiento del oponente:\n",
            "[['X' 'O' 'O']\n",
            " ['O' 'O' '']\n",
            " ['X' 'X' '']]\n",
            "Posicion donde quieres colocar tu ficha: 2 2\n",
            "Tu jugada:\n",
            "[['X' 'O' 'O']\n",
            " ['O' 'O' '']\n",
            " ['X' 'X' 'X']]\n",
            "Ganaste el juego!!\n"
          ]
        }
      ]
    },
    {
      "cell_type": "code",
      "source": [
        "## 2da prueba del código de arriba"
      ],
      "metadata": {
        "colab": {
          "base_uri": "https://localhost:8080/"
        },
        "id": "M4KfaB8_kxlM",
        "outputId": "8f0ff87c-2a00-484a-ffcf-39300488a3f6"
      },
      "execution_count": 123,
      "outputs": [
        {
          "output_type": "stream",
          "name": "stdout",
          "text": [
            "First to start? (Yes or No): no\n",
            "Movimiento del oponente:\n",
            "[['' '' '']\n",
            " ['' 'O' '']\n",
            " ['' '' '']]\n",
            "Posicion donde quieres colocar tu ficha: 2 0\n",
            "Tu jugada:\n",
            "[['' '' '']\n",
            " ['' 'O' '']\n",
            " ['X' '' '']]\n",
            "Movimiento del oponente:\n",
            "[['O' '' '']\n",
            " ['' 'O' '']\n",
            " ['X' '' '']]\n",
            "Posicion donde quieres colocar tu ficha: 2 2\n",
            "Tu jugada:\n",
            "[['O' '' '']\n",
            " ['' 'O' '']\n",
            " ['X' '' 'X']]\n",
            "Movimiento del oponente:\n",
            "[['O' '' '']\n",
            " ['' 'O' '']\n",
            " ['X' 'O' 'X']]\n",
            "Posicion donde quieres colocar tu ficha: 1 2\n",
            "Tu jugada:\n",
            "[['O' '' '']\n",
            " ['' 'O' 'X']\n",
            " ['X' 'O' 'X']]\n",
            "Movimiento del oponente:\n",
            "[['O' 'O' '']\n",
            " ['' 'O' 'X']\n",
            " ['X' 'O' 'X']]\n",
            "Perdiste el juego!!\n"
          ]
        }
      ]
    }
  ]
}