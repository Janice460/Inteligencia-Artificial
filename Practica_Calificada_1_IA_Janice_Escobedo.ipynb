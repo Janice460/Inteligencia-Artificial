{
  "nbformat": 4,
  "nbformat_minor": 0,
  "metadata": {
    "colab": {
      "provenance": []
    },
    "kernelspec": {
      "name": "python3",
      "display_name": "Python 3"
    },
    "language_info": {
      "name": "python"
    }
  },
  "cells": [
    {
      "cell_type": "markdown",
      "source": [
        "# Práctica Calificada 1\n",
        "Alumna: Janice Katherine Escobedo Vasquez\n",
        "## Problema 1\n",
        "El problema del puzzle 8 que permita ingresar diferentes heurísticas  (2 puntos)"
      ],
      "metadata": {
        "id": "Q1cBoI5pnQoN"
      }
    },
    {
      "cell_type": "code",
      "source": [
        "import random\n",
        "import numpy as np"
      ],
      "metadata": {
        "id": "fxdPWEHIws8P"
      },
      "execution_count": 1,
      "outputs": []
    },
    {
      "cell_type": "markdown",
      "source": [
        "Definamos los posibles movimientos por indices. Si consideramos las posiciones del juego como siguen\n",
        "\n",
        "| 0 | 1| 2 |\n",
        "| ----- | --- | ----- |\n",
        "| 3 | 4 | 5 |\n",
        "| 6 | 7 | 8 |\n",
        "\n",
        "Entonces\n",
        "- desde la posicion 0 solo nos podemos DERECHA, ABAJO;es decir, a los indices 1 y 3\n",
        "- desde la posicion 7 nos podemos mover ARRIBA, IZQUIERDA,  DERECHA; es decir, a los indices 4,6 y 8\n",
        "- desde la posicion 4 nos podemos mover a los cuatro lados con indices 1,3,5,7\n",
        "De acuerdo a eso definimos el diccionario poss_moves"
      ],
      "metadata": {
        "id": "lQlqRaTxwtso"
      }
    },
    {
      "cell_type": "code",
      "execution_count": 2,
      "metadata": {
        "id": "zdYlQC-bnJvF"
      },
      "outputs": [],
      "source": [
        "# Posibles movimientos que se pueden dar por posicion; es decir, cuando me encuentre en la posici\n",
        "poss_moves = {\n",
        "        0: [1, 3],\n",
        "        1: [0, 2, 4],\n",
        "        2: [1, 5],\n",
        "        3: [0, 4, 6],\n",
        "        4: [1, 3, 5, 7],\n",
        "        5: [2, 4, 8],\n",
        "        6: [3, 7],\n",
        "        7: [4, 6, 8],\n",
        "        8: [5, 7]\n",
        "}"
      ]
    },
    {
      "cell_type": "markdown",
      "source": [
        "Definiendo Heuristicas"
      ],
      "metadata": {
        "id": "H4F79KqooKHX"
      }
    },
    {
      "cell_type": "code",
      "source": [
        "def Heuristica1(state): # Heuristica 1 es la cantidad de fichas descolocadas\n",
        "    valid = state==pos_final\n",
        "    h = (valid==False).sum()\n",
        "    if list(state).index(0) == 4:\n",
        "        return h\n",
        "    else: # aquí el 4 se encontraría descolocado, pero para la heuristica el 0\n",
        "          # no cuenta como casilla descolocada así no se encuentre en la posicion del medio\n",
        "        return h-1\n",
        "\n",
        "def Heuristica2(state): # Heuristica 2 es la distancia Manhattan\n",
        "    h =0 # la distancia se inicializa con 0\n",
        "    valid = state==pos_final\n",
        "    (inx,iny) = np.where(valid.reshape((3,3))==False) # almacenamos indices de casillas descolocadas\n",
        "\n",
        "    for k in range(len(inx)): # tener en cuenta que len(inx) = len(iny)\n",
        "        (indx_c, indy_c) = np.where(pos_final.reshape((3,3))== state.reshape((3,3))[inx[k],iny[k]])\n",
        "        if state.reshape((3,3))[inx[k],iny[k]] != 0: # el 0 no cuenta como ficha incorrecta\n",
        "            h = h + abs(indx_c[0]- inx[k]) + abs(indy_c[0]- iny[k]) # almacena las distancias\n",
        "    return h"
      ],
      "metadata": {
        "id": "g2EYtLT5oJR5"
      },
      "execution_count": 3,
      "outputs": []
    },
    {
      "cell_type": "code",
      "source": [
        "# Realiza el cambio de estado intercambiando la ficha de entrada por el casillero vacío\n",
        "def Possible_movement(curr_state,pos_empty,index, Heuristic):\n",
        "    state_tmp = curr_state.copy()\n",
        "    state_tmp[pos_empty] = state_tmp[index]\n",
        "    state_tmp[index] = 0\n",
        "    return state_tmp, Heuristic(state_tmp)\n",
        "\n",
        "# Devuelve los nodos hijos de un posible estado, con su respectiva heuristica\n",
        "def Puzzle(state, Heuristic):\n",
        "    # buscamos la posicion del casilero vacio (0)\n",
        "    pos_empty = list(state).index(0)\n",
        "\n",
        "    # h_1 es la heuristica de los ndos hijos posibles\n",
        "    h_1 = np.array([], dtype = np.dtype(np.int32))\n",
        "\n",
        "    # poss_child almacena todos los estados posibles que se pueden dar del estado pacre 'state'\n",
        "    poss_child = []\n",
        "\n",
        "    for i in poss_moves[pos_empty]: # el valor de la llave devuelve los cambios posibles que se dan por posicion\n",
        "        poss_child.append(Possible_movement(state,pos_empty,i, Heuristic)[0])\n",
        "        h_1 = np.append(h_1,Possible_movement(state,pos_empty,i, Heuristic)[1])\n",
        "    return poss_child, h_1\n",
        "\n",
        "# Cuando aplicando la heuristica a los nodos hijos y escogiendo el mínimo este se\n",
        "# da en más de un nodo, entonces juntamos los nodos hijos de todos los estados donde se dé el mínimo\n",
        "def Child(poss_acum,h_acum, Heuristic):\n",
        "    poss_child = poss_acum.copy()\n",
        "    h_1 = h_acum.copy()\n",
        "    h_curr = min(h_1)\n",
        "    # Indices de los estados donde se da la minima heuristica\n",
        "    poss, = np.where((h_1<=h_curr)) and np.where(h_1 == h_curr)\n",
        "    poss_acum = []\n",
        "    h_acum = []\n",
        "\n",
        "    # acumulando todos los estados y heuristicas\n",
        "    for i in poss:\n",
        "        poss_acum = poss_acum + Puzzle(poss_child[i], Heuristic)[0]\n",
        "        h_acum.extend(Puzzle(poss_child[i], Heuristic)[1])\n",
        "            # h_acum = h_acum + Puzzle(new_poss[i], Heuristica1)[1]\n",
        "    return poss_acum,h_acum\n",
        "\n",
        "# Imprimir el estado actual con su rspectiva heuristica\n",
        "def Print_sol(state,h,i):\n",
        "    print(\"Movement \",i, \"\\n\",state.reshape((3,3)))\n",
        "    print(\"Heuristica: \", h, \"\\n\")"
      ],
      "metadata": {
        "id": "NPhLhGjroDtL"
      },
      "execution_count": 4,
      "outputs": []
    },
    {
      "cell_type": "markdown",
      "source": [
        "Para este ejemplo nuestro input es un array que almacena las posiciones del puzzle. \\\n",
        "Ejm: Si nuestro input de estado inicial es\n",
        "$$[2,8,3,1,6,4,7,0,5]$$\n",
        "y el input del estado final es\n",
        "$$ [1,2,3,8,0,4,7,6,5] $$\n",
        "Entonces el juego comienza de la siguiente manera\n",
        "\n",
        "| 2 | 8| 3 |\n",
        "| ----- | --- | ----- |\n",
        "| 1 | 6 | 4 |\n",
        "| 7 |  | 5 |\n",
        "\n",
        "y la posicion final es\n",
        "\n",
        "| 1 | 2 | 3 |\n",
        "| ----- | --- | ----- |\n",
        "| 8 |  | 4 |\n",
        "| 7 | 6 | 5 |"
      ],
      "metadata": {
        "id": "yCjbSC2rtn_d"
      }
    },
    {
      "cell_type": "code",
      "source": [
        "state = np.array([2,8,3,1,6,4,7,0,5])\n",
        "pos_final = np.array([1,2,3,8,0,4,7,6,5])\n",
        "\n",
        "def Puzzle_main(state_0,pos_final, Heuristic):\n",
        "    poss_acum = [state_0] # El camino comienza con el estado inicial\n",
        "    h_acum = [Heuristica1(state_0)]\n",
        "    k = 0\n",
        "    Print_sol(poss_acum[0], h_acum[0],k)\n",
        "\n",
        "    while 0 not in h_acum: # mientras no lleguemos a la posicion final\n",
        "        k = k+1\n",
        "        poss_acum, h_acum = Child(poss_acum, h_acum, Heuristic)\n",
        "        poss_1, = np.where((h_acum==min(h_acum)))\n",
        "\n",
        "        Print_sol(poss_acum[poss_1[0]], h_acum[poss_1[0]],k)"
      ],
      "metadata": {
        "id": "zqUa26MqtjuS"
      },
      "execution_count": 5,
      "outputs": []
    },
    {
      "cell_type": "code",
      "source": [
        "Puzzle_main(state,pos_final, Heuristica1)"
      ],
      "metadata": {
        "colab": {
          "base_uri": "https://localhost:8080/",
          "height": 0
        },
        "id": "uqDp0QGBvnSp",
        "outputId": "59a298c0-65ff-43a4-cdd1-0f7cd324d3fc"
      },
      "execution_count": 6,
      "outputs": [
        {
          "output_type": "stream",
          "name": "stdout",
          "text": [
            "Movement  0 \n",
            " [[2 8 3]\n",
            " [1 6 4]\n",
            " [7 0 5]]\n",
            "Heuristica:  4 \n",
            "\n",
            "Movement  1 \n",
            " [[2 8 3]\n",
            " [1 0 4]\n",
            " [7 6 5]]\n",
            "Heuristica:  3 \n",
            "\n",
            "Movement  2 \n",
            " [[2 0 3]\n",
            " [1 8 4]\n",
            " [7 6 5]]\n",
            "Heuristica:  3 \n",
            "\n",
            "Movement  3 \n",
            " [[0 2 3]\n",
            " [1 8 4]\n",
            " [7 6 5]]\n",
            "Heuristica:  2 \n",
            "\n",
            "Movement  4 \n",
            " [[1 2 3]\n",
            " [0 8 4]\n",
            " [7 6 5]]\n",
            "Heuristica:  1 \n",
            "\n",
            "Movement  5 \n",
            " [[1 2 3]\n",
            " [8 0 4]\n",
            " [7 6 5]]\n",
            "Heuristica:  0 \n",
            "\n"
          ]
        }
      ]
    },
    {
      "cell_type": "code",
      "source": [
        "Puzzle_main(state,pos_final, Heuristica2)"
      ],
      "metadata": {
        "colab": {
          "base_uri": "https://localhost:8080/",
          "height": 0
        },
        "id": "JRRECzOdx0cI",
        "outputId": "7200956a-7d96-475b-dc0d-6408bfdd663a"
      },
      "execution_count": 7,
      "outputs": [
        {
          "output_type": "stream",
          "name": "stdout",
          "text": [
            "Movement  0 \n",
            " [[2 8 3]\n",
            " [1 6 4]\n",
            " [7 0 5]]\n",
            "Heuristica:  4 \n",
            "\n",
            "Movement  1 \n",
            " [[2 8 3]\n",
            " [1 0 4]\n",
            " [7 6 5]]\n",
            "Heuristica:  4 \n",
            "\n",
            "Movement  2 \n",
            " [[2 0 3]\n",
            " [1 8 4]\n",
            " [7 6 5]]\n",
            "Heuristica:  3 \n",
            "\n",
            "Movement  3 \n",
            " [[0 2 3]\n",
            " [1 8 4]\n",
            " [7 6 5]]\n",
            "Heuristica:  2 \n",
            "\n",
            "Movement  4 \n",
            " [[1 2 3]\n",
            " [0 8 4]\n",
            " [7 6 5]]\n",
            "Heuristica:  1 \n",
            "\n",
            "Movement  5 \n",
            " [[1 2 3]\n",
            " [8 0 4]\n",
            " [7 6 5]]\n",
            "Heuristica:  0 \n",
            "\n"
          ]
        }
      ]
    },
    {
      "cell_type": "code",
      "source": [
        "state = np.array(list(map(int, input(\"Enter the initial state of the puzzle (use 0 for the blank space): \").split())))\n",
        "pos_final =np.array(list(map(int, input(\"Enter the goal state of the puzzle: \").split())))\n",
        "Puzzle_main(state,pos_final, Heuristica1)"
      ],
      "metadata": {
        "colab": {
          "base_uri": "https://localhost:8080/"
        },
        "id": "u7YCZcoCNvuw",
        "outputId": "c16ae700-5efd-46fe-be99-ed09606d2bdc"
      },
      "execution_count": null,
      "outputs": [
        {
          "output_type": "stream",
          "name": "stdout",
          "text": [
            "Enter the initial state of the puzzle (use 0 for the blank space): 2 8 3 1 6 4 7 0 5\n",
            "Enter the goal state of the puzzle: 1 2 3 8 0 4 7 6 5\n",
            "Movement  0 \n",
            " [[2 8 3]\n",
            " [1 6 4]\n",
            " [7 0 5]]\n",
            "Heuristica:  4 \n",
            "\n",
            "Movement  1 \n",
            " [[2 8 3]\n",
            " [1 0 4]\n",
            " [7 6 5]]\n",
            "Heuristica:  3 \n",
            "\n",
            "Movement  2 \n",
            " [[2 0 3]\n",
            " [1 8 4]\n",
            " [7 6 5]]\n",
            "Heuristica:  3 \n",
            "\n",
            "Movement  3 \n",
            " [[0 2 3]\n",
            " [1 8 4]\n",
            " [7 6 5]]\n",
            "Heuristica:  2 \n",
            "\n",
            "Movement  4 \n",
            " [[1 2 3]\n",
            " [0 8 4]\n",
            " [7 6 5]]\n",
            "Heuristica:  1 \n",
            "\n",
            "Movement  5 \n",
            " [[1 2 3]\n",
            " [8 0 4]\n",
            " [7 6 5]]\n",
            "Heuristica:  0 \n",
            "\n"
          ]
        }
      ]
    },
    {
      "cell_type": "markdown",
      "source": [
        "## Problema 2\n",
        "El problema de las 4 reinas\\\n",
        "a) Usando el método de búsqueda en profundidad DFS (1.5 puntos)"
      ],
      "metadata": {
        "id": "P6sdlO2Hntl3"
      }
    },
    {
      "cell_type": "code",
      "source": [
        "import numpy as np"
      ],
      "metadata": {
        "id": "SSa_PQTbd_wm"
      },
      "execution_count": 8,
      "outputs": []
    },
    {
      "cell_type": "code",
      "source": [
        "# Heuristica: conteo de reinas\n",
        "def Heuristica2(state):\n",
        "    (n_queenx,__) = np.where(state=='Q')\n",
        "    return len(n_queenx)"
      ],
      "metadata": {
        "id": "eTMOwEYTeJhO"
      },
      "execution_count": 9,
      "outputs": []
    },
    {
      "cell_type": "code",
      "source": [
        "# Asigna con 'X' los movimientos donde la Reina representada por 'Q' no se debe mover\n",
        "\n",
        "def Prohibited_movements(state):\n",
        "    state_curr = state.copy()\n",
        "    (qx,qy) =np.where(state_curr=='Q') # Ubicacion de reinas\n",
        "    for k in range(len(qx)): # por cada reina que encuentre en el estado\n",
        "        for i in range(4):\n",
        "            for j in range(4):\n",
        "                if state_curr[i,j] == '': # Solo pinta los espacios vacios\n",
        "                    if i != qx[k] and j !=qy[k]:\n",
        "                        # (i+j == qx[k]+qy[k]) es la condicion que cumplen los indices de los elementos de la diagonal reversa\n",
        "                        if i+j == qx[k]+qy[k]: # Para la Diagonal reversa\n",
        "                            state_curr[i,j] =\"X\"\n",
        "                        if i-j == qx[k]-qy[k]: # Para la Diagonal\n",
        "                            state_curr[i,j] =\"X\"\n",
        "                    if j != qy[k]:\n",
        "                        state_curr[qx[k],j] = \"X\" # Para la fila\n",
        "                    if i != qx[k]:\n",
        "                        state_curr[i,qy[k]] = \"X\" # Para la columna\n",
        "    return state_curr"
      ],
      "metadata": {
        "id": "a6kqj1DcWAAd"
      },
      "execution_count": 10,
      "outputs": []
    },
    {
      "cell_type": "code",
      "source": [
        "# Esta función acumula los estados recorridos en la lista Closed, aqui consideramos 2 cosas\n",
        "# - Simetria: Pasar al estado 'state' es equivalente a pasar a 'state' transpuesto\n",
        "# - Rotación: Pasar al estado 'state' es equivalente a pasar a 'state' rotado 90, 180 , 270\n",
        "\n",
        "def Add_to_closed(Closed,state_1):\n",
        "    Closed.append(state_1)\n",
        "    transpose = state_1.T\n",
        "    Closed.append(transpose)\n",
        "    rotate = np.rot90(state_1)\n",
        "    for k in range(3):\n",
        "        Closed.append(rotate)\n",
        "        rotate = np.rot90(rotate)\n",
        "\n",
        "    return list(np.unique(Closed, axis=0)) # Al final si algun estado se repite lo consideramos solo una vez"
      ],
      "metadata": {
        "id": "n_sR7Jx6XDVJ"
      },
      "execution_count": 11,
      "outputs": []
    },
    {
      "cell_type": "code",
      "source": [
        "# Funcion que devuelve los nodos hijo del estado 'initial'\n",
        "\n",
        "def Get_children(Closed,initial):\n",
        "    initial_p = Prohibited_movements(initial)\n",
        "    initial_p\n",
        "    # Consideramos los indices de los espacios vacios (posibles opciones de poner la siguiente reina)\n",
        "    (inx,iny) =np.where(initial_p=='')\n",
        "\n",
        "    # children almacena los nodos hijos del estado 'initial'\n",
        "    children = []\n",
        "    # h almacena las heuristicas de los nodos hijo del estado 'initial'\n",
        "    h = []\n",
        "\n",
        "    for i in range(len(inx)):\n",
        "        initial2 = initial.copy()\n",
        "        # Asignamos a la siguiente reina el los todos los posibles espacios en blanco\n",
        "        initial2[inx[i],iny[i]] = \"Q\"\n",
        "\n",
        "        # valid es una lista de arrays en 2d con tipo de dato booleano\n",
        "        valid = initial2 == Closed\n",
        "\n",
        "        # Si la suma de elementos de los elementos de valid es 16 significa que\n",
        "        # el estado initial2 esta dentro de los estados cerrados, lo que deseamos\n",
        "        # es que se considere un nuevo hijo si es que el estado initial2 no está\n",
        "        # dentro de Closed; es decir, la suma no es 16\n",
        "        if 16 not in [valid[k].sum() for k in range(len(valid))]: # si no esta en Closed\n",
        "            children.append(initial2)\n",
        "            h.append(Heuristica2(initial2))\n",
        "        # Luego de tener los nodos hijo actualizamos nuestro conjunto cerrado\n",
        "        Closed = Add_to_closed(Closed,initial2)\n",
        "    return Closed, children, h"
      ],
      "metadata": {
        "id": "S7dx_2txnxf8"
      },
      "execution_count": 13,
      "outputs": []
    },
    {
      "cell_type": "code",
      "source": [
        "def PrintHijos(children):\n",
        "    for i in range(len(children)):\n",
        "        print(children[i])"
      ],
      "metadata": {
        "id": "17rEdDHYJnoq"
      },
      "execution_count": 14,
      "outputs": []
    },
    {
      "cell_type": "code",
      "source": [
        "def Cuatro_Reinas(Closed,initial, sol = None): # Arbol_busqueda, costo, camino\n",
        "    # Para el estado initial,\n",
        "    Closed, children, h = Get_children(Closed,initial)\n",
        "\n",
        "    # Si tiene hijos el estado initial, entonces ver a los hijos\n",
        "    if len(children)>0:\n",
        "        print('\\nPara el estado: \\n',initial,'\\nLos nodos hijos posibles son:')\n",
        "        PrintHijos(children)\n",
        "\n",
        "        # Si alguno de ellos tiene las 4 reinas entonces habremos encontrado solucion,\n",
        "        # de igual manera se inprimirá el árbol de búsqueda\n",
        "        for pos in range(len(children)):\n",
        "            if h[pos]==4:\n",
        "                sol = children[pos]\n",
        "                print('¡ACABAMOS DE ENCONTRAR UNA SOLUCION!\\n')\n",
        "                return sol\n",
        "            else:\n",
        "                sol = Cuatro_Reinas(Closed,children[pos],sol)\n",
        "    return sol"
      ],
      "metadata": {
        "id": "XsD-XMrDzM1O"
      },
      "execution_count": 21,
      "outputs": []
    },
    {
      "cell_type": "code",
      "source": [
        "# Comenzamos con un estado inicial de un tablero vacio\n",
        "initial = np.zeros((4,4), dtype = np.dtype(\"<U3\"))\n",
        "# Y con el Cerrado igual al tablero vacio\n",
        "Closed = [initial]\n",
        "# Vemos si hay solucion\n",
        "sol = Cuatro_Reinas(Closed,initial)"
      ],
      "metadata": {
        "colab": {
          "base_uri": "https://localhost:8080/"
        },
        "id": "_TVO_0Ft0dAo",
        "outputId": "bbf7735a-7c8c-4869-d1b4-7b0c03d8d24e"
      },
      "execution_count": 22,
      "outputs": [
        {
          "output_type": "stream",
          "name": "stdout",
          "text": [
            "\n",
            "Para el estado: \n",
            " [['' '' '' '']\n",
            " ['' '' '' '']\n",
            " ['' '' '' '']\n",
            " ['' '' '' '']] \n",
            "Los nodos hijos posibles son:\n",
            "[['Q' '' '' '']\n",
            " ['' '' '' '']\n",
            " ['' '' '' '']\n",
            " ['' '' '' '']]\n",
            "[['' 'Q' '' '']\n",
            " ['' '' '' '']\n",
            " ['' '' '' '']\n",
            " ['' '' '' '']]\n",
            "[['' '' 'Q' '']\n",
            " ['' '' '' '']\n",
            " ['' '' '' '']\n",
            " ['' '' '' '']]\n",
            "[['' '' '' '']\n",
            " ['' 'Q' '' '']\n",
            " ['' '' '' '']\n",
            " ['' '' '' '']]\n",
            "\n",
            "Para el estado: \n",
            " [['Q' '' '' '']\n",
            " ['' '' '' '']\n",
            " ['' '' '' '']\n",
            " ['' '' '' '']] \n",
            "Los nodos hijos posibles son:\n",
            "[['Q' '' '' '']\n",
            " ['' '' 'Q' '']\n",
            " ['' '' '' '']\n",
            " ['' '' '' '']]\n",
            "[['Q' '' '' '']\n",
            " ['' '' '' 'Q']\n",
            " ['' '' '' '']\n",
            " ['' '' '' '']]\n",
            "[['Q' '' '' '']\n",
            " ['' '' '' '']\n",
            " ['' '' '' 'Q']\n",
            " ['' '' '' '']]\n",
            "\n",
            "Para el estado: \n",
            " [['Q' '' '' '']\n",
            " ['' '' 'Q' '']\n",
            " ['' '' '' '']\n",
            " ['' '' '' '']] \n",
            "Los nodos hijos posibles son:\n",
            "[['Q' '' '' '']\n",
            " ['' '' 'Q' '']\n",
            " ['' '' '' '']\n",
            " ['' 'Q' '' '']]\n",
            "\n",
            "Para el estado: \n",
            " [['Q' '' '' '']\n",
            " ['' '' '' 'Q']\n",
            " ['' '' '' '']\n",
            " ['' '' '' '']] \n",
            "Los nodos hijos posibles son:\n",
            "[['Q' '' '' '']\n",
            " ['' '' '' 'Q']\n",
            " ['' '' '' '']\n",
            " ['' '' 'Q' '']]\n",
            "\n",
            "Para el estado: \n",
            " [['Q' '' '' '']\n",
            " ['' '' '' '']\n",
            " ['' '' '' 'Q']\n",
            " ['' '' '' '']] \n",
            "Los nodos hijos posibles son:\n",
            "[['Q' '' '' '']\n",
            " ['' '' '' '']\n",
            " ['' '' '' 'Q']\n",
            " ['' 'Q' '' '']]\n",
            "\n",
            "Para el estado: \n",
            " [['' 'Q' '' '']\n",
            " ['' '' '' '']\n",
            " ['' '' '' '']\n",
            " ['' '' '' '']] \n",
            "Los nodos hijos posibles son:\n",
            "[['' 'Q' '' '']\n",
            " ['' '' '' 'Q']\n",
            " ['' '' '' '']\n",
            " ['' '' '' '']]\n",
            "[['' 'Q' '' '']\n",
            " ['' '' '' '']\n",
            " ['' '' 'Q' '']\n",
            " ['' '' '' '']]\n",
            "[['' 'Q' '' '']\n",
            " ['' '' '' '']\n",
            " ['' '' '' '']\n",
            " ['Q' '' '' '']]\n",
            "[['' 'Q' '' '']\n",
            " ['' '' '' '']\n",
            " ['' '' '' '']\n",
            " ['' '' 'Q' '']]\n",
            "[['' 'Q' '' '']\n",
            " ['' '' '' '']\n",
            " ['' '' '' '']\n",
            " ['' '' '' 'Q']]\n",
            "\n",
            "Para el estado: \n",
            " [['' 'Q' '' '']\n",
            " ['' '' '' 'Q']\n",
            " ['' '' '' '']\n",
            " ['' '' '' '']] \n",
            "Los nodos hijos posibles son:\n",
            "[['' 'Q' '' '']\n",
            " ['' '' '' 'Q']\n",
            " ['Q' '' '' '']\n",
            " ['' '' '' '']]\n",
            "[['' 'Q' '' '']\n",
            " ['' '' '' 'Q']\n",
            " ['' '' '' '']\n",
            " ['Q' '' '' '']]\n",
            "\n",
            "Para el estado: \n",
            " [['' 'Q' '' '']\n",
            " ['' '' '' 'Q']\n",
            " ['Q' '' '' '']\n",
            " ['' '' '' '']] \n",
            "Los nodos hijos posibles son:\n",
            "[['' 'Q' '' '']\n",
            " ['' '' '' 'Q']\n",
            " ['Q' '' '' '']\n",
            " ['' '' 'Q' '']]\n",
            "¡ACABAMOS DE ENCONTRAR UNA SOLUCION!\n",
            "\n",
            "\n",
            "Para el estado: \n",
            " [['' 'Q' '' '']\n",
            " ['' '' '' '']\n",
            " ['' '' 'Q' '']\n",
            " ['' '' '' '']] \n",
            "Los nodos hijos posibles son:\n",
            "[['' 'Q' '' '']\n",
            " ['' '' '' '']\n",
            " ['' '' 'Q' '']\n",
            " ['Q' '' '' '']]\n",
            "\n",
            "Para el estado: \n",
            " [['' 'Q' '' '']\n",
            " ['' '' '' '']\n",
            " ['' '' '' '']\n",
            " ['Q' '' '' '']] \n",
            "Los nodos hijos posibles son:\n",
            "[['' 'Q' '' '']\n",
            " ['' '' '' 'Q']\n",
            " ['' '' '' '']\n",
            " ['Q' '' '' '']]\n",
            "\n",
            "Para el estado: \n",
            " [['' '' 'Q' '']\n",
            " ['' '' '' '']\n",
            " ['' '' '' '']\n",
            " ['' '' '' '']] \n",
            "Los nodos hijos posibles son:\n",
            "[['' '' 'Q' '']\n",
            " ['Q' '' '' '']\n",
            " ['' '' '' '']\n",
            " ['' '' '' '']]\n",
            "[['' '' 'Q' '']\n",
            " ['' '' '' '']\n",
            " ['' 'Q' '' '']\n",
            " ['' '' '' '']]\n",
            "[['' '' 'Q' '']\n",
            " ['' '' '' '']\n",
            " ['' '' '' '']\n",
            " ['Q' '' '' '']]\n",
            "[['' '' 'Q' '']\n",
            " ['' '' '' '']\n",
            " ['' '' '' '']\n",
            " ['' 'Q' '' '']]\n",
            "[['' '' 'Q' '']\n",
            " ['' '' '' '']\n",
            " ['' '' '' '']\n",
            " ['' '' '' 'Q']]\n",
            "\n",
            "Para el estado: \n",
            " [['' '' 'Q' '']\n",
            " ['Q' '' '' '']\n",
            " ['' '' '' '']\n",
            " ['' '' '' '']] \n",
            "Los nodos hijos posibles son:\n",
            "[['' '' 'Q' '']\n",
            " ['Q' '' '' '']\n",
            " ['' '' '' 'Q']\n",
            " ['' '' '' '']]\n",
            "[['' '' 'Q' '']\n",
            " ['Q' '' '' '']\n",
            " ['' '' '' '']\n",
            " ['' '' '' 'Q']]\n",
            "\n",
            "Para el estado: \n",
            " [['' '' 'Q' '']\n",
            " ['Q' '' '' '']\n",
            " ['' '' '' 'Q']\n",
            " ['' '' '' '']] \n",
            "Los nodos hijos posibles son:\n",
            "[['' '' 'Q' '']\n",
            " ['Q' '' '' '']\n",
            " ['' '' '' 'Q']\n",
            " ['' 'Q' '' '']]\n",
            "¡ACABAMOS DE ENCONTRAR UNA SOLUCION!\n",
            "\n",
            "\n",
            "Para el estado: \n",
            " [['' '' 'Q' '']\n",
            " ['' '' '' '']\n",
            " ['' 'Q' '' '']\n",
            " ['' '' '' '']] \n",
            "Los nodos hijos posibles son:\n",
            "[['' '' 'Q' '']\n",
            " ['' '' '' '']\n",
            " ['' 'Q' '' '']\n",
            " ['' '' '' 'Q']]\n",
            "\n",
            "Para el estado: \n",
            " [['' '' 'Q' '']\n",
            " ['' '' '' '']\n",
            " ['' '' '' '']\n",
            " ['Q' '' '' '']] \n",
            "Los nodos hijos posibles son:\n",
            "[['' '' 'Q' '']\n",
            " ['' '' '' '']\n",
            " ['' '' '' 'Q']\n",
            " ['Q' '' '' '']]\n",
            "\n",
            "Para el estado: \n",
            " [['' '' '' '']\n",
            " ['' 'Q' '' '']\n",
            " ['' '' '' '']\n",
            " ['' '' '' '']] \n",
            "Los nodos hijos posibles son:\n",
            "[['' '' '' 'Q']\n",
            " ['' 'Q' '' '']\n",
            " ['' '' '' '']\n",
            " ['' '' '' '']]\n",
            "[['' '' '' '']\n",
            " ['' 'Q' '' '']\n",
            " ['' '' '' 'Q']\n",
            " ['' '' '' '']]\n",
            "\n",
            "Para el estado: \n",
            " [['' '' '' 'Q']\n",
            " ['' 'Q' '' '']\n",
            " ['' '' '' '']\n",
            " ['' '' '' '']] \n",
            "Los nodos hijos posibles son:\n",
            "[['' '' '' 'Q']\n",
            " ['' 'Q' '' '']\n",
            " ['' '' '' '']\n",
            " ['' '' 'Q' '']]\n"
          ]
        }
      ]
    },
    {
      "cell_type": "code",
      "source": [
        "print('La solución de las 4 reinas es\\n',sol)"
      ],
      "metadata": {
        "colab": {
          "base_uri": "https://localhost:8080/",
          "height": 0
        },
        "id": "WD44zcK0R7ux",
        "outputId": "87fd00f0-9a90-48fb-a8a3-b89eed1f9a7f"
      },
      "execution_count": 17,
      "outputs": [
        {
          "output_type": "stream",
          "name": "stdout",
          "text": [
            "La solución de las 4 reinas es\n",
            " [['' '' 'Q' '']\n",
            " ['Q' '' '' '']\n",
            " ['' '' '' 'Q']\n",
            " ['' 'Q' '' '']]\n"
          ]
        }
      ]
    },
    {
      "cell_type": "markdown",
      "source": [
        "$b)$ Usando el método de búsqueda de costo uniforme UCS (1.5 puntos)"
      ],
      "metadata": {
        "id": "gAcfpo3unxnm"
      }
    },
    {
      "cell_type": "code",
      "source": [
        "# Usamos la heuristica de la suma de reinas + los espacios disponibles vacíos\n",
        "# Cuando encontremos el óptimo h = 4 + 0 = 4\n",
        "def Heuristica1(state):\n",
        "    (emptyx,__) = np.where(state=='') # np.where(state=='Q') or\n",
        "    (n_queenx,__) = np.where(state=='Q')\n",
        "    return len(emptyx) + len(n_queenx)"
      ],
      "metadata": {
        "id": "NBXBY1cevpUo"
      },
      "execution_count": 18,
      "outputs": []
    },
    {
      "cell_type": "markdown",
      "source": [
        "## Problema 3\n",
        "El problema de Romania\\\n",
        "$a)$ Usando el método de búsqueda en profundidad DFS (1.5 puntos)"
      ],
      "metadata": {
        "id": "2cvdow3Tn28n"
      }
    },
    {
      "cell_type": "code",
      "source": [
        "# Algoritmo DFS\n",
        "\n",
        "def DFS(grafo, state, final_state, costo_final, Closed=set(), camino=[]):\n",
        "    camino = camino + [state]\n",
        "    if state == final_state:\n",
        "        return camino, costo_final\n",
        "    # Agregamos el estado al conjunto Closed\n",
        "    Closed.add(state)\n",
        "\n",
        "    # Para todos los posibles conexiones que tiene el estaso\n",
        "    for child, cost in grafo[state]:\n",
        "        # Si la cuidad no se ha recorrido\n",
        "        if child not in Closed:\n",
        "            # Incrementamos el costo\n",
        "            costo_final = costo_final + cost\n",
        "            # Se define nuevo camino\n",
        "            new_path, costo_final = DFS(grafo, child, final_state, costo_final, Closed, camino)\n",
        "            return new_path, costo_final\n",
        "\n",
        "    return [], costo_final\n",
        "\n",
        "# Definimos el Grafo donde cada noto es una ciudad_origen y cada valor es una lista de (cuidad_destino, costo)\n",
        "Rumania= {\n",
        "    'A': [('Z', 75), ('S', 140), ('T', 118)],\n",
        "    'Z': [('A', 75), ('O', 71)],\n",
        "    'O': [('Z', 71), ('S', 151)],\n",
        "    'T': [('A', 118),('L', 111)],\n",
        "    'L': [('T', 111), ('M', 70)],\n",
        "    'S': [('O', 151), ('A', 140), ('F', 99), ('R', 80)],\n",
        "    'M': [('L', 70), ('D', 75)],\n",
        "    'D': [('M', 75), ('C', 120)],\n",
        "    'C': [('D', 120), ('R', 146), ('P', 138)],\n",
        "    'R': [('S', 80), ('P', 97), ('C', 146)],\n",
        "    'P': [('R', 97), ('C', 138), ('B', 101)],\n",
        "    'F': [('S', 99), ('B', 211)],\n",
        "    'B': [('P', 101), ('G', 90), ('F', 211), ('U', 85)],\n",
        "    'G': [('B', 90)],\n",
        "    'U': [('B', 85), ('V', 142), ('H', 98)],\n",
        "    'V': [('U', 142), ('I', 92)],\n",
        "    'I': [('V', 92), ('N', 87)],\n",
        "    'N': [('I', 87)],\n",
        "    'H': [('U', 98), ('E', 86)],\n",
        "    'E': [('H', 86)]\n",
        "}\n",
        "\n",
        "ciudad_inicial = 'A'\n",
        "cuidad_final = 'B'\n",
        "camino, costo_final = DFS(Rumania, ciudad_inicial, cuidad_final, 0)\n",
        "\n",
        "if camino:\n",
        "    print(\"Camino encontrado:\\n\", camino)\n",
        "    print(\"El costo total:\\n\", costo_final)\n",
        "else:\n",
        "    print(\"No se encontró un camino desde\", ciudad_inicial, \"a\", cuidad_final)"
      ],
      "metadata": {
        "colab": {
          "base_uri": "https://localhost:8080/",
          "height": 0
        },
        "id": "IK-oNoR8n6YO",
        "outputId": "ba3ce3f1-1073-4438-9f9b-6a3644922829"
      },
      "execution_count": 19,
      "outputs": [
        {
          "output_type": "stream",
          "name": "stdout",
          "text": [
            "Camino encontrado:\n",
            " ['A', 'Z', 'O', 'S', 'F', 'B']\n",
            "El costo total:\n",
            " 607\n"
          ]
        }
      ]
    },
    {
      "cell_type": "markdown",
      "source": [
        "$b)$ Usando el método de búsqueda de costo uniforme UCS (1.5 puntos)"
      ],
      "metadata": {
        "id": "yT2-ZqYVn6fe"
      }
    },
    {
      "cell_type": "code",
      "source": [
        "import heapq # libreria para el uso de colas\n",
        "\n",
        "def UCS(grafo, start, goal):\n",
        "    frontera = [(0, start, [])]  # almacena (costo acumulado, nodo, camino)\n",
        "    Closed = set()\n",
        "    k = 1\n",
        "    while frontera:\n",
        "        print('Paso ',k)\n",
        "        print(frontera)\n",
        "        k = k + 1\n",
        "        cost, current_node, path = heapq.heappop(frontera) # saca el de menor costo\n",
        "        if current_node == goal:\n",
        "            return cost, path + [current_node], Closed, frontera\n",
        "        # Recorre caminos que no estén dentro de Closed\n",
        "        if current_node not in Closed:\n",
        "            Closed.add(current_node)\n",
        "            # Recorre los valores de la ciudad actual\n",
        "            for neighbor, neighbor_cost in grafo[current_node]:\n",
        "                if neighbor not in Closed:\n",
        "                    # Añade a la cola frontera el posible vecino\n",
        "                    heapq.heappush(frontera, (cost + neighbor_cost, neighbor, path + [current_node]))\n",
        "    return None, None\n",
        "\n",
        "Rumania= {\n",
        "    'A': [('T', 118), ('Z', 75), ('S', 140)],\n",
        "    'Z': [('A', 75), ('O', 71)],\n",
        "    'O': [('Z', 71), ('S', 151)],\n",
        "    'T': [('A', 118),('L', 111)],\n",
        "    'L': [('T', 111), ('M', 70)],\n",
        "    'M': [('L', 70), ('D', 75)],\n",
        "    'D': [('M', 75), ('C', 120)],\n",
        "    'C': [('D', 120), ('R', 146), ('P', 138)],\n",
        "    'R': [('S', 80), ('P', 97), ('C', 146)],\n",
        "    'P': [('R', 97), ('C', 138), ('B', 101)],\n",
        "    'F': [('S', 99), ('B', 211)],\n",
        "    'S': [('O', 151), ('A', 140), ('F', 99), ('R', 80)],\n",
        "    'B': [('P', 101), ('G', 90), ('F', 211), ('U', 85)],\n",
        "    'G': [('B', 90)],\n",
        "    'U': [('B', 85), ('V', 142), ('H', 98)],\n",
        "    'V': [('U', 142), ('I', 92)],\n",
        "    'I': [('V', 92), ('N', 87)],\n",
        "    'N': [('I', 87)],\n",
        "    'H': [('U', 98), ('E', 86)],\n",
        "    'E': [('H', 86)]\n",
        "}\n",
        "\n",
        "ciudad_inicial = 'A'\n",
        "cuidad_final = 'B'\n",
        "cost, path, Closed, frontera = UCS(Rumania, ciudad_inicial, cuidad_final)\n",
        "\n",
        "if path:\n",
        "    print(\"\\nCamino recorrido:\\n\", path)\n",
        "    print(\"\\nMenor costo total del camino:\\n\", cost)\n",
        "    print('\\nNodos recorridos: \\n', Closed)\n",
        "else:\n",
        "    print(\"No se encontró un camino desde\", ciudad_inicial, \"a\", cuidad_final)"
      ],
      "metadata": {
        "colab": {
          "base_uri": "https://localhost:8080/",
          "height": 0
        },
        "id": "H8Gha-kC1nAc",
        "outputId": "44acfb12-d3fc-4024-a900-0629a743230e"
      },
      "execution_count": 20,
      "outputs": [
        {
          "output_type": "stream",
          "name": "stdout",
          "text": [
            "Paso  1\n",
            "[(0, 'A', [])]\n",
            "Paso  2\n",
            "[(75, 'Z', ['A']), (118, 'T', ['A']), (140, 'S', ['A'])]\n",
            "Paso  3\n",
            "[(118, 'T', ['A']), (140, 'S', ['A']), (146, 'O', ['A', 'Z'])]\n",
            "Paso  4\n",
            "[(140, 'S', ['A']), (146, 'O', ['A', 'Z']), (229, 'L', ['A', 'T'])]\n",
            "Paso  5\n",
            "[(146, 'O', ['A', 'Z']), (220, 'R', ['A', 'S']), (291, 'O', ['A', 'S']), (239, 'F', ['A', 'S']), (229, 'L', ['A', 'T'])]\n",
            "Paso  6\n",
            "[(220, 'R', ['A', 'S']), (229, 'L', ['A', 'T']), (291, 'O', ['A', 'S']), (239, 'F', ['A', 'S'])]\n",
            "Paso  7\n",
            "[(229, 'L', ['A', 'T']), (239, 'F', ['A', 'S']), (291, 'O', ['A', 'S']), (317, 'P', ['A', 'S', 'R']), (366, 'C', ['A', 'S', 'R'])]\n",
            "Paso  8\n",
            "[(239, 'F', ['A', 'S']), (299, 'M', ['A', 'T', 'L']), (291, 'O', ['A', 'S']), (366, 'C', ['A', 'S', 'R']), (317, 'P', ['A', 'S', 'R'])]\n",
            "Paso  9\n",
            "[(291, 'O', ['A', 'S']), (299, 'M', ['A', 'T', 'L']), (317, 'P', ['A', 'S', 'R']), (366, 'C', ['A', 'S', 'R']), (450, 'B', ['A', 'S', 'F'])]\n",
            "Paso  10\n",
            "[(299, 'M', ['A', 'T', 'L']), (366, 'C', ['A', 'S', 'R']), (317, 'P', ['A', 'S', 'R']), (450, 'B', ['A', 'S', 'F'])]\n",
            "Paso  11\n",
            "[(317, 'P', ['A', 'S', 'R']), (366, 'C', ['A', 'S', 'R']), (450, 'B', ['A', 'S', 'F']), (374, 'D', ['A', 'T', 'L', 'M'])]\n",
            "Paso  12\n",
            "[(366, 'C', ['A', 'S', 'R']), (374, 'D', ['A', 'T', 'L', 'M']), (450, 'B', ['A', 'S', 'F']), (455, 'C', ['A', 'S', 'R', 'P']), (418, 'B', ['A', 'S', 'R', 'P'])]\n",
            "Paso  13\n",
            "[(374, 'D', ['A', 'T', 'L', 'M']), (418, 'B', ['A', 'S', 'R', 'P']), (450, 'B', ['A', 'S', 'F']), (455, 'C', ['A', 'S', 'R', 'P']), (486, 'D', ['A', 'S', 'R', 'C'])]\n",
            "Paso  14\n",
            "[(418, 'B', ['A', 'S', 'R', 'P']), (455, 'C', ['A', 'S', 'R', 'P']), (450, 'B', ['A', 'S', 'F']), (486, 'D', ['A', 'S', 'R', 'C'])]\n",
            "\n",
            "Camino recorrido:\n",
            " ['A', 'S', 'R', 'P', 'B']\n",
            "\n",
            "Menor costo total del camino:\n",
            " 418\n",
            "\n",
            "Nodos recorridos: \n",
            " {'Z', 'L', 'P', 'D', 'S', 'R', 'M', 'T', 'A', 'F', 'O', 'C'}\n"
          ]
        }
      ]
    }
  ]
}